{
  "nbformat": 4,
  "nbformat_minor": 0,
  "metadata": {
    "colab": {
      "name": "CLASSWORK.ipynb",
      "provenance": [],
      "authorship_tag": "ABX9TyMTJNkvRgy26RA6/a6sAXo3",
      "include_colab_link": true
    },
    "kernelspec": {
      "name": "python3",
      "display_name": "Python 3"
    }
  },
  "cells": [
    {
      "cell_type": "markdown",
      "metadata": {
        "id": "view-in-github",
        "colab_type": "text"
      },
      "source": [
        "<a href=\"https://colab.research.google.com/github/eshanchatty/Artificial-Intelligence/blob/master/Classwork/CLASSWORK.ipynb\" target=\"_parent\"><img src=\"https://colab.research.google.com/assets/colab-badge.svg\" alt=\"Open In Colab\"/></a>"
      ]
    },
    {
      "cell_type": "code",
      "metadata": {
        "id": "ifbKDcqqLYrC",
        "colab_type": "code",
        "colab": {}
      },
      "source": [
        "#list\n",
        "a = [1, 2, 3, 4, 5, 'human']\n",
        "b = [[1, 2, 3, 4, 5, 'human'], [2, 3, 4, 5, 'human'], [3, 4, 5, 'human']]\n",
        "\n",
        "\n",
        "#tuple\n",
        "a = (1, 2, 3, 4, 5, 'human')\n",
        "\n",
        "#set\n",
        "a= {1, 2, 3, 4, 5, 'human'}\n",
        "\n",
        "#dictionary\n",
        "a = {'list': [1, 2, 3, 4, 5, 'human'],\n",
        "     'tuple': (1, 2, 3, 4, 5, 'human'),\n",
        "     'set': {1, 2, 3, 4, 5, 'human'}}"
      ],
      "execution_count": null,
      "outputs": []
    }
  ]
}
