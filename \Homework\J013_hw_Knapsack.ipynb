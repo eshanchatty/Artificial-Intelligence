{
  "nbformat": 4,
  "nbformat_minor": 0,
  "metadata": {
    "colab": {
      "name": "Untitled13.ipynb",
      "provenance": [],
      "include_colab_link": true
    },
    "kernelspec": {
      "name": "python3",
      "display_name": "Python 3"
    }
  },
  "cells": [
    {
      "cell_type": "markdown",
      "metadata": {
        "id": "view-in-github",
        "colab_type": "text"
      },
      "source": [
        "<a href=\"https://colab.research.google.com/github/eshanchatty/Artificial-Intelligence/blob/master/%5CHomework%5CJ013_hw_Knapsack.ipynb\" target=\"_parent\"><img src=\"https://colab.research.google.com/assets/colab-badge.svg\" alt=\"Open In Colab\"/></a>"
      ]
    },
    {
      "cell_type": "code",
      "metadata": {
        "id": "MG2t0_VcyEFc",
        "colab_type": "code",
        "colab": {
          "base_uri": "https://localhost:8080/",
          "height": 136
        },
        "outputId": "87f4afe2-42ab-4af2-a163-8ef4fe5361a5"
      },
      "source": [
        "import sys\n",
        "import heapq\n",
        "\n",
        "def knapsack(N,M,S,V,E) :\n",
        "  T = tuple(set() for _ in range(N))\n",
        "  for u,v in E :\n",
        "    T[u].add(v)\n",
        "    T[v].add(u)\n",
        "    Total, order, maxVal = sum(V), sorted(range(n), reverse=True, key=(lambda i : V[i]/S[i])), 0\n",
        "  def maximum(visit, connect, reject, size, value, rejectVal, maxVal) :\n",
        "      if value > maxVal :\n",
        "          maxVal = value\n",
        "      if not connect :\n",
        "          return maxVal\n",
        "      i = best_case(connect)\n",
        "      if size + S[i] <= M :\n",
        "          maxVal = maximum(visit|{i}, (connect-{i}) | (T[i]-reject-visit), reject, size+S[i], value+V[i], rejectVal, maxVal)\n",
        "      if Total - (rejectVal + V[i]) > maxVal :\n",
        "          maxVal = maximum(visit|{i}, connect-{i}, reject | {i}, size, value, rejectVal + V[i], maxVal)\n",
        "      return maxVal\n",
        "  def best_case(connect) :\n",
        "      for i in order :\n",
        "          if i in connect :\n",
        "              return i\n",
        "  for s in order :\n",
        "      maxVal = maximum(set(),{s},set(),0,0,0,maxVal)\n",
        "  return maxVal\n",
        "\n",
        "T = int(input())\n",
        "for _ in range(T) :\n",
        "    n,m = (int(_) for _ in input().split())\n",
        "    s = tuple(int(_) for _ in input().split())\n",
        "    v = tuple(int(_) for _ in input().split())\n",
        "    e = tuple((int(_)-1 for _ in input().split()) for _ in range(n-1))\n",
        "    print(\"Output is: \" ,knapsack(n,m,s,v,e))"
      ],
      "execution_count": null,
      "outputs": [
        {
          "output_type": "stream",
          "text": [
            "1\n",
            "3 1\n",
            "1 1 1\n",
            "1 2 3\n",
            "1 2\n",
            "1 3\n",
            "Output is:  3\n"
          ],
          "name": "stdout"
        }
      ]
    },
    {
      "cell_type": "code",
      "metadata": {
        "id": "CKEchuLMyH4T",
        "colab_type": "code",
        "colab": {
          "base_uri": "https://localhost:8080/",
          "height": 170
        },
        "outputId": "4db564ef-ec62-4934-8628-0ab79c053055"
      },
      "source": [
        "T = int(input())\n",
        "for _ in range(T) :\n",
        "    n,m = (int(_) for _ in input().split())\n",
        "    s = tuple(int(_) for _ in input().split())\n",
        "    v = tuple(int(_) for _ in input().split())\n",
        "    e = tuple((int(_)-1 for _ in input().split()) for _ in range(n-1))\n",
        "    print(\"Output is: \" ,knapsack(n,m,s,v,e))"
      ],
      "execution_count": null,
      "outputs": [
        {
          "output_type": "stream",
          "text": [
            "1\n",
            "5 3\n",
            "1 1 1 1 1\n",
            "3 5 2 2 3\n",
            "1 2 \n",
            "2 4\n",
            "2 5\n",
            "1 3\n",
            "Output is:  11\n"
          ],
          "name": "stdout"
        }
      ]
    },
    {
      "cell_type": "code",
      "metadata": {
        "id": "gW3mPxfiyH7Q",
        "colab_type": "code",
        "colab": {
          "base_uri": "https://localhost:8080/",
          "height": 238
        },
        "outputId": "6b2b3c9e-7eb7-4e12-b988-99d6e173da78"
      },
      "source": [
        "T = int(input())\n",
        "for _ in range(T) :\n",
        "    n,m = (int(_) for _ in input().split())\n",
        "    s = tuple(int(_) for _ in input().split())\n",
        "    v = tuple(int(_) for _ in input().split())\n",
        "    e = tuple((int(_)-1 for _ in input().split()) for _ in range(n-1))\n",
        "    print(\"Output is: \" ,knapsack(n,m,s,v,e))"
      ],
      "execution_count": null,
      "outputs": [
        {
          "output_type": "stream",
          "text": [
            "1\n",
            "9 7\n",
            "1 1 3 2 1 1 1 5 5\n",
            "1 0 8 5 1 2 0 9 14\n",
            "1 2\n",
            "2 3\n",
            "2 4\n",
            "3 5\n",
            "3 6\n",
            "4 7\n",
            "4 8\n",
            "7 9\n",
            "Output is:  15\n"
          ],
          "name": "stdout"
        }
      ]
    },
    {
      "cell_type": "code",
      "metadata": {
        "id": "6FKE4SMWyH_T",
        "colab_type": "code",
        "colab": {}
      },
      "source": [
        ""
      ],
      "execution_count": null,
      "outputs": []
    }
  ]
}