{
  "nbformat": 4,
  "nbformat_minor": 0,
  "metadata": {
    "colab": {
      "name": "AI HW1.ipynb",
      "provenance": [],
      "authorship_tag": "ABX9TyNkCYfKyCWEGmQ36IkqlekW",
      "include_colab_link": true
    },
    "kernelspec": {
      "name": "python3",
      "display_name": "Python 3"
    }
  },
  "cells": [
    {
      "cell_type": "markdown",
      "metadata": {
        "id": "view-in-github",
        "colab_type": "text"
      },
      "source": [
        "<a href=\"https://colab.research.google.com/github/eshanchatty/Artificial-Intelligence/blob/master/Homework/AI_HW1.ipynb\" target=\"_parent\"><img src=\"https://colab.research.google.com/assets/colab-badge.svg\" alt=\"Open In Colab\"/></a>"
      ]
    },
    {
      "cell_type": "markdown",
      "metadata": {
        "id": "z9-yejmFFg7U",
        "colab_type": "text"
      },
      "source": [
        "Q1"
      ]
    },
    {
      "cell_type": "code",
      "metadata": {
        "id": "09axPSVNFTfA",
        "colab_type": "code",
        "colab": {}
      },
      "source": [
        "import math\n",
        "import os\n",
        "import random\n",
        "import re\n",
        "import sys\n",
        "\n",
        "\n",
        "\n",
        "n = int(input())\n",
        "if n%2!=0:\n",
        "    print(\"Weird\")\n",
        "elif 2<=n<=5:\n",
        "    print(\"Not Weird\")\n",
        "elif 6<=n<=20:\n",
        "    print(\"Weird\")\n",
        "elif n>20:\n",
        "    print(\"Not Weird\")"
      ],
      "execution_count": null,
      "outputs": []
    },
    {
      "cell_type": "markdown",
      "metadata": {
        "id": "eV-KaA6jFkuk",
        "colab_type": "text"
      },
      "source": [
        "Q2"
      ]
    },
    {
      "cell_type": "code",
      "metadata": {
        "id": "QyR0gItUFWpA",
        "colab_type": "code",
        "colab": {}
      },
      "source": [
        "\n",
        "a = int(input())\n",
        "b = int(input())\n",
        "\n",
        "print(a + b)\n",
        "print(a - b)\n",
        "print(a * b)"
      ],
      "execution_count": null,
      "outputs": []
    },
    {
      "cell_type": "markdown",
      "metadata": {
        "id": "3vHxEXI1FnBu",
        "colab_type": "text"
      },
      "source": [
        "Q3"
      ]
    },
    {
      "cell_type": "code",
      "metadata": {
        "id": "1iIdodDkFmtW",
        "colab_type": "code",
        "colab": {}
      },
      "source": [
        "a = int(input())\n",
        "b = int(input())\n",
        "    \n",
        "print (a//b)\n",
        "print (a/b)"
      ],
      "execution_count": null,
      "outputs": []
    },
    {
      "cell_type": "markdown",
      "metadata": {
        "id": "USEbjRv-Ft6L",
        "colab_type": "text"
      },
      "source": [
        "Q4"
      ]
    },
    {
      "cell_type": "code",
      "metadata": {
        "id": "B_bXzjeLFusH",
        "colab_type": "code",
        "colab": {
          "base_uri": "https://localhost:8080/",
          "height": 153
        },
        "outputId": "99f18aee-8e05-49ec-c3c9-d6a3777af0f4"
      },
      "source": [
        "n=int(input())\n",
        "i=0\n",
        "while(i<n):\n",
        "        print(i*i)\n",
        "        i+=1"
      ],
      "execution_count": null,
      "outputs": [
        {
          "output_type": "stream",
          "text": [
            "7\n",
            "0\n",
            "1\n",
            "4\n",
            "9\n",
            "16\n",
            "25\n",
            "36\n"
          ],
          "name": "stdout"
        }
      ]
    },
    {
      "cell_type": "markdown",
      "metadata": {
        "id": "STh50hNvG61i",
        "colab_type": "text"
      },
      "source": [
        "Q5"
      ]
    },
    {
      "cell_type": "code",
      "metadata": {
        "id": "aKb2SF-SG53N",
        "colab_type": "code",
        "colab": {}
      },
      "source": [
        "n=int(input())\n",
        "i=1\n",
        "while(i<=n):\n",
        "        print(i,end=\"\")\n",
        "        i+=1"
      ],
      "execution_count": null,
      "outputs": []
    },
    {
      "cell_type": "markdown",
      "metadata": {
        "id": "r8ZgovpbHIoI",
        "colab_type": "text"
      },
      "source": [
        "Q6"
      ]
    },
    {
      "cell_type": "code",
      "metadata": {
        "id": "k46ZGNvmHJeo",
        "colab_type": "code",
        "colab": {
          "base_uri": "https://localhost:8080/",
          "height": 122
        },
        "outputId": "973324cf-8317-4ff6-e986-4b44e871fee6"
      },
      "source": [
        "x=int(input())\n",
        "y=int(input())\n",
        "z=int(input())\n",
        "n=int(input())\n",
        "dims = [[i,j,k]\n",
        "for i in range(x+1)\n",
        "  for j in range(y+1)\n",
        "   for k in range(z+1)\n",
        "      if((i+j+k)!=n)]\n",
        "\n",
        "print(dims)"
      ],
      "execution_count": null,
      "outputs": [
        {
          "output_type": "stream",
          "text": [
            "3\n",
            "4\n",
            "2\n",
            "1\n",
            "[[0, 0, 0], [0, 0, 2], [0, 1, 1], [0, 1, 2], [0, 2, 0], [0, 2, 1], [0, 2, 2], [0, 3, 0], [0, 3, 1], [0, 3, 2], [0, 4, 0], [0, 4, 1], [0, 4, 2], [1, 0, 1], [1, 0, 2], [1, 1, 0], [1, 1, 1], [1, 1, 2], [1, 2, 0], [1, 2, 1], [1, 2, 2], [1, 3, 0], [1, 3, 1], [1, 3, 2], [1, 4, 0], [1, 4, 1], [1, 4, 2], [2, 0, 0], [2, 0, 1], [2, 0, 2], [2, 1, 0], [2, 1, 1], [2, 1, 2], [2, 2, 0], [2, 2, 1], [2, 2, 2], [2, 3, 0], [2, 3, 1], [2, 3, 2], [2, 4, 0], [2, 4, 1], [2, 4, 2], [3, 0, 0], [3, 0, 1], [3, 0, 2], [3, 1, 0], [3, 1, 1], [3, 1, 2], [3, 2, 0], [3, 2, 1], [3, 2, 2], [3, 3, 0], [3, 3, 1], [3, 3, 2], [3, 4, 0], [3, 4, 1], [3, 4, 2]]\n"
          ],
          "name": "stdout"
        }
      ]
    }
  ]
}