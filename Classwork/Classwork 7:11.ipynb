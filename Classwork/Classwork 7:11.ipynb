{
 "cells": [
  {
   "cell_type": "code",
   "execution_count": 1,
   "metadata": {
    "colab": {
     "base_uri": "https://localhost:8080/",
     "height": 34
    },
    "colab_type": "code",
    "id": "LV1ipZYv1Lyb",
    "outputId": "34184e07-145c-4d16-9c77-8353ebea0dd2"
   },
   "outputs": [
    {
     "name": "stdout",
     "output_type": "stream",
     "text": [
      "{'list': [1, 2, 3, 4, 5, 'Human'], 'tuple': (1, 2, 3, 4, 5, 'Human'), 'set': {1, 2, 'Human', 4, 5}}\n"
     ]
    }
   ],
   "source": [
    "#List\n",
    "a = [1,2,3,4,5,'Human']\n",
    "\n",
    "#Tuple\n",
    "a = (1,2,3,4,5,'Human')\n",
    "\n",
    "#Set\n",
    "a = {'list':[1,2,3,4,5,'Human'],\n",
    "     'tuple':(1,2,3,4,5,'Human'),\n",
    "      'set':{1,2,2,4,5,'Human','Human'}}\n",
    "print(a)"
   ]
  },
  {
   "cell_type": "code",
   "execution_count": 2,
   "metadata": {
    "colab": {},
    "colab_type": "code",
    "id": "M6TroeMR2sBC"
   },
   "outputs": [],
   "source": [
    "a = {1,2,3,4,5}\n",
    "b = {2,3,4,5,6}\n",
    "c = {3,3,4,5,6}"
   ]
  },
  {
   "cell_type": "code",
   "execution_count": 3,
   "metadata": {
    "colab": {
     "base_uri": "https://localhost:8080/",
     "height": 51
    },
    "colab_type": "code",
    "id": "wn44vswK2uVx",
    "outputId": "8e763712-786e-428e-e6c2-11a85081fb49"
   },
   "outputs": [
    {
     "name": "stdout",
     "output_type": "stream",
     "text": [
      "{1, 2, 3, 4, 5, 100}\n",
      "{3, 100, 4, 5, 6}\n"
     ]
    }
   ],
   "source": [
    "a.add(100)\n",
    "c.add(100)\n",
    "print(a)\n",
    "print(c)"
   ]
  },
  {
   "cell_type": "markdown",
   "metadata": {
    "colab_type": "text",
    "id": "jOE_73ul20O0"
   },
   "source": [
    "If we add an element to a set which has recurrinig values, the new element replaces the first recurring element"
   ]
  },
  {
   "cell_type": "code",
   "execution_count": 4,
   "metadata": {
    "colab": {
     "base_uri": "https://localhost:8080/",
     "height": 34
    },
    "colab_type": "code",
    "id": "K3VHA8yo2wWa",
    "outputId": "687e83e1-c45d-4dbe-9463-d603a78fd681"
   },
   "outputs": [
    {
     "name": "stdout",
     "output_type": "stream",
     "text": [
      "False\n"
     ]
    }
   ],
   "source": [
    "z = a.isdisjoint(b)\n",
    "print(z)"
   ]
  },
  {
   "cell_type": "markdown",
   "metadata": {
    "colab_type": "text",
    "id": "9_RtKrs_23vk"
   },
   "source": [
    "Pop a value at random"
   ]
  },
  {
   "cell_type": "code",
   "execution_count": 5,
   "metadata": {
    "colab": {
     "base_uri": "https://localhost:8080/",
     "height": 34
    },
    "colab_type": "code",
    "id": "fFfLERg422ir",
    "outputId": "eeacac47-c74b-4701-bdab-c249578b9b31"
   },
   "outputs": [
    {
     "name": "stdout",
     "output_type": "stream",
     "text": [
      "{2, 3, 4, 5, 100}\n"
     ]
    }
   ],
   "source": [
    "a.pop()\n",
    "print(a)"
   ]
  },
  {
   "cell_type": "markdown",
   "metadata": {
    "colab_type": "text",
    "id": "4Z8aCMc33Tss"
   },
   "source": [
    "To find intersection of two sets"
   ]
  },
  {
   "cell_type": "code",
   "execution_count": 6,
   "metadata": {
    "colab": {
     "base_uri": "https://localhost:8080/",
     "height": 34
    },
    "colab_type": "code",
    "id": "g0yZQoIh3MKp",
    "outputId": "059d8bc0-f0ae-4f27-c3b1-983095179e5f"
   },
   "outputs": [
    {
     "data": {
      "text/plain": [
       "{2, 3, 4, 5}"
      ]
     },
     "execution_count": 6,
     "metadata": {},
     "output_type": "execute_result"
    }
   ],
   "source": [
    "a.intersection(b)"
   ]
  },
  {
   "cell_type": "markdown",
   "metadata": {
    "colab_type": "text",
    "id": "k47qUGls3tcv"
   },
   "source": [
    "To update the value of union the set in the orginal set"
   ]
  },
  {
   "cell_type": "code",
   "execution_count": 7,
   "metadata": {
    "colab": {
     "base_uri": "https://localhost:8080/",
     "height": 34
    },
    "colab_type": "code",
    "id": "R6zzGxhL3VvM",
    "outputId": "a4abbe93-0d64-42e8-8cba-71c5798c13fb"
   },
   "outputs": [
    {
     "name": "stdout",
     "output_type": "stream",
     "text": [
      "{2, 3, 4, 5, 100, 6}\n"
     ]
    }
   ],
   "source": [
    "a.update(b)\n",
    "print(a)"
   ]
  },
  {
   "cell_type": "markdown",
   "metadata": {
    "colab_type": "text",
    "id": "wELJ436p3wOz"
   },
   "source": [
    "To discard a specific value in a set"
   ]
  },
  {
   "cell_type": "code",
   "execution_count": 8,
   "metadata": {
    "colab": {
     "base_uri": "https://localhost:8080/",
     "height": 34
    },
    "colab_type": "code",
    "id": "IKspUNZM3ZLt",
    "outputId": "0593908d-e76f-4dff-8c36-9f008e724c8a"
   },
   "outputs": [
    {
     "name": "stdout",
     "output_type": "stream",
     "text": [
      "{100, 4, 5, 6}\n"
     ]
    }
   ],
   "source": [
    "c.discard(3)\n",
    "print(c)"
   ]
  },
  {
   "cell_type": "markdown",
   "metadata": {
    "colab_type": "text",
    "id": "poyJuZut30un"
   },
   "source": [
    "To find if a particular set is a subset of another"
   ]
  },
  {
   "cell_type": "code",
   "execution_count": 9,
   "metadata": {
    "colab": {
     "base_uri": "https://localhost:8080/",
     "height": 34
    },
    "colab_type": "code",
    "id": "v7RPYNEW3b7i",
    "outputId": "1b617450-b3d5-4d09-f678-4b6b8a59aed4"
   },
   "outputs": [
    {
     "data": {
      "text/plain": [
       "True"
      ]
     },
     "execution_count": 9,
     "metadata": {},
     "output_type": "execute_result"
    }
   ],
   "source": [
    "b.add(100)\n",
    "c.issubset(b)"
   ]
  },
  {
   "cell_type": "markdown",
   "metadata": {
    "colab_type": "text",
    "id": "wTsxLBes37eb"
   },
   "source": [
    "To Find the difference between 2 Sets"
   ]
  },
  {
   "cell_type": "code",
   "execution_count": 10,
   "metadata": {
    "colab": {
     "base_uri": "https://localhost:8080/",
     "height": 34
    },
    "colab_type": "code",
    "id": "Sbzxmfee3dnS",
    "outputId": "513092b3-e565-4512-d73a-12a824736b7f"
   },
   "outputs": [
    {
     "data": {
      "text/plain": [
       "{2, 3}"
      ]
     },
     "execution_count": 10,
     "metadata": {},
     "output_type": "execute_result"
    }
   ],
   "source": [
    "b.difference(c)"
   ]
  },
  {
   "cell_type": "markdown",
   "metadata": {
    "colab_type": "text",
    "id": "44n1rr9-3_Kd"
   },
   "source": [
    "To find if a set is superset of another subset"
   ]
  },
  {
   "cell_type": "code",
   "execution_count": 11,
   "metadata": {
    "colab": {
     "base_uri": "https://localhost:8080/",
     "height": 34
    },
    "colab_type": "code",
    "id": "I8S15GAE3fTt",
    "outputId": "2859ddd7-44c2-44a4-9af5-ee1b2e2c6b62"
   },
   "outputs": [
    {
     "data": {
      "text/plain": [
       "True"
      ]
     },
     "execution_count": 11,
     "metadata": {},
     "output_type": "execute_result"
    }
   ],
   "source": [
    "b.issuperset(c)"
   ]
  },
  {
   "cell_type": "code",
   "execution_count": 12,
   "metadata": {
    "colab": {},
    "colab_type": "code",
    "id": "N4g5McLP7NXT"
   },
   "outputs": [],
   "source": [
    "a = 4\n",
    "b = 6\n",
    "c = 8"
   ]
  },
  {
   "cell_type": "markdown",
   "metadata": {
    "colab_type": "text",
    "id": "04yHgH1FAtWp"
   },
   "source": [
    "Making a function to reuse in our code"
   ]
  },
  {
   "cell_type": "code",
   "execution_count": 13,
   "metadata": {
    "colab": {},
    "colab_type": "code",
    "id": "3jpw95zu4WUE"
   },
   "outputs": [],
   "source": [
    "def printer():\n",
    "  print(a+b)\n",
    "def sum(a,b):\n",
    "  print(a+b)"
   ]
  },
  {
   "cell_type": "code",
   "execution_count": 14,
   "metadata": {
    "colab": {
     "base_uri": "https://localhost:8080/"
    },
    "colab_type": "code",
    "id": "PXkwPoc96fJy",
    "outputId": "ed0b1bd0-1aa9-4849-f0c9-f8a802e14318"
   },
   "outputs": [
    {
     "name": "stdout",
     "output_type": "stream",
     "text": [
      "10\n"
     ]
    }
   ],
   "source": [
    "printer()"
   ]
  },
  {
   "cell_type": "code",
   "execution_count": 15,
   "metadata": {
    "colab": {
     "base_uri": "https://localhost:8080/"
    },
    "colab_type": "code",
    "id": "yInEaQOm63Fj",
    "outputId": "63d21376-3c34-485c-99c9-879b5a4d93c0"
   },
   "outputs": [
    {
     "name": "stdout",
     "output_type": "stream",
     "text": [
      "12\n"
     ]
    }
   ],
   "source": [
    "sum(a,c)"
   ]
  },
  {
   "cell_type": "markdown",
   "metadata": {
    "colab_type": "text",
    "id": "n1LmzaVsA9UM"
   },
   "source": [
    "Indenting to define an if and else block"
   ]
  },
  {
   "cell_type": "code",
   "execution_count": 16,
   "metadata": {
    "colab": {
     "base_uri": "https://localhost:8080/",
     "height": 34
    },
    "colab_type": "code",
    "id": "Fir4jUjh7i7_",
    "outputId": "4a616b88-55de-4ba2-bbf7-a163aacfd6b0"
   },
   "outputs": [
    {
     "name": "stdout",
     "output_type": "stream",
     "text": [
      "13\n"
     ]
    }
   ],
   "source": [
    "if a>9:\n",
    "  print(a)\n",
    "else:\n",
    "  print(a+9)"
   ]
  },
  {
   "cell_type": "markdown",
   "metadata": {
    "colab_type": "text",
    "id": "TMjqIHXqBDIH"
   },
   "source": [
    "Converting a number from base n to base 10 int (num in base n, n)"
   ]
  },
  {
   "cell_type": "code",
   "execution_count": 17,
   "metadata": {
    "colab": {
     "base_uri": "https://localhost:8080/",
     "height": 37
    },
    "colab_type": "code",
    "id": "YU026Qjk-v7j",
    "outputId": "46ac1a2c-26e5-4cbd-ef94-099ab6c5a587"
   },
   "outputs": [
    {
     "data": {
      "text/plain": [
       "'2'"
      ]
     },
     "execution_count": 17,
     "metadata": {},
     "output_type": "execute_result"
    }
   ],
   "source": [
    "str(int('10',2))"
   ]
  },
  {
   "cell_type": "markdown",
   "metadata": {
    "colab_type": "text",
    "id": "UJBB1lZzEFGB"
   },
   "source": [
    "End of line in string"
   ]
  },
  {
   "cell_type": "code",
   "execution_count": 18,
   "metadata": {
    "colab": {
     "base_uri": "https://localhost:8080/",
     "height": 51
    },
    "colab_type": "code",
    "id": "BZXsKbxiAp9-",
    "outputId": "a293d8a8-67a0-4321-aa74-f9ac28647c9e"
   },
   "outputs": [
    {
     "name": "stdout",
     "output_type": "stream",
     "text": [
      "asdnfwofn widbfiw\n",
      " wifhwd  wdwdvwdvdv  wvwdvd\n"
     ]
    }
   ],
   "source": [
    "def sum1():\n",
    "  a = 'asdnfwofn widbfiw\\n wifhwd\\\n",
    "  wdwdvwdvdv\\\n",
    "  wvwdvd'\n",
    "  print(a)\n",
    "sum1()"
   ]
  },
  {
   "cell_type": "code",
   "execution_count": 19,
   "metadata": {
    "colab": {
     "base_uri": "https://localhost:8080/",
     "height": 34
    },
    "colab_type": "code",
    "id": "ts5yv1AbEok7",
    "outputId": "4c11147c-214e-4848-a8f7-75c879712477"
   },
   "outputs": [
    {
     "data": {
      "text/plain": [
       "[3, 4, 5]"
      ]
     },
     "execution_count": 19,
     "metadata": {},
     "output_type": "execute_result"
    }
   ],
   "source": [
    "l = [1,2,3,4]\n",
    "a = [3,4,5,6]\n",
    "a.pop(-1)\n",
    "a"
   ]
  },
  {
   "cell_type": "markdown",
   "metadata": {
    "colab_type": "text",
    "id": "ruB_r3KrYUVi"
   },
   "source": [
    "Name mangling, Variable name is different if wanted to be called out of the class"
   ]
  },
  {
   "cell_type": "code",
   "execution_count": 20,
   "metadata": {
    "colab": {
     "base_uri": "https://localhost:8080/",
     "height": 51
    },
    "colab_type": "code",
    "id": "SRjkI74zJtnU",
    "outputId": "8291ae97-7b07-452c-cebc-76ccc98786ee"
   },
   "outputs": [
    {
     "name": "stdout",
     "output_type": "stream",
     "text": [
      "Santosh\n",
      "Santosh\n"
     ]
    }
   ],
   "source": [
    "class student:\n",
    "  #__name = self.__name\n",
    "  def __init__(self, name):\n",
    "    self.name = name\n",
    "  def displayName(self):\n",
    "    print(self.name)\n",
    "\n",
    "##Class vs Object\n",
    "s1 = student('Santosh')\n",
    "s1.displayName()\n",
    "\n",
    "#Raise an error\n",
    "print(s1.name)\n",
    "\n",
    "##If you define a global variable in a function with underscore, \n",
    "##then you have to access the variable by <object>._<class_name><variable_name_starting_with_underscore> "
   ]
  },
  {
   "cell_type": "code",
   "execution_count": 21,
   "metadata": {
    "colab": {
     "base_uri": "https://localhost:8080/",
     "height": 51
    },
    "colab_type": "code",
    "id": "AuBT2VA0QoMV",
    "outputId": "54e73786-e42d-45f2-8ea3-84f582d853ab"
   },
   "outputs": [
    {
     "name": "stdout",
     "output_type": "stream",
     "text": [
      "santosh\n",
      "45\n"
     ]
    }
   ],
   "source": [
    "class stud(student):\n",
    "  def __init__(self, a, name):\n",
    "    self.a = a\n",
    "    student.__init__(student, name) \n",
    "\n",
    "s2 = stud(45, 'santosh')\n",
    "print(s2.name)\n",
    "print(s2.a)"
   ]
  }
 ],
 "metadata": {
  "colab": {
   "collapsed_sections": [],
   "name": "CW_J003_110720.ipynb",
   "provenance": []
  },
  "kernelspec": {
   "display_name": "Python 3",
   "language": "python",
   "name": "python3"
  },
  "language_info": {
   "codemirror_mode": {
    "name": "ipython",
    "version": 3
   },
   "file_extension": ".py",
   "mimetype": "text/x-python",
   "name": "python",
   "nbconvert_exporter": "python",
   "pygments_lexer": "ipython3",
   "version": "3.7.4"
  }
 },
 "nbformat": 4,
 "nbformat_minor": 1
}
