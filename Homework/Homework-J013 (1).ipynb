{
 "cells": [
  {
   "cell_type": "code",
   "execution_count": null,
   "metadata": {
    "colab": {
     "base_uri": "https://localhost:8080/",
     "height": 70
    },
    "colab_type": "code",
    "id": "6UUvjLD5zWlg",
    "outputId": "36ad9ece-a985-4811-9e73-a1278bd81f5b"
   },
   "outputs": [],
   "source": [
    "import numpy as np\n",
    "import pandas as pd\n",
    "import seaborn as sns\n",
    "import matplotlib.pyplot as plt"
   ]
  },
  {
   "cell_type": "markdown",
   "metadata": {
    "colab_type": "text",
    "id": "9qnSfOzZ0iCG"
   },
   "source": [
    "Create a custom class DataRead to read csv file using pandas\n",
    "\n",
    "Create a custom function RowSelect within the class to select any 2 rows of  the dataframe\n",
    "\n",
    "Create a sub class of DataRead as  DataRead2  that has function for correlation plots (using any lib for correlation plot)\n",
    "\n",
    "Within DataRead2 also create a function to override the custom function of DataRead1 RowSelect to select 3 rows"
   ]
  },
  {
   "cell_type": "code",
   "execution_count": null,
   "metadata": {
    "colab": {},
    "colab_type": "code",
    "id": "eXtsieNc04DL"
   },
   "outputs": [],
   "source": [
    "class DataRead():\n",
    "  def __init__(self,fileread):\n",
    "    self.df1=pd.read_csv(fileread)\n",
    "\n",
    "  def RowSelect(self,a,b):\n",
    "    print(self.df1.iloc[[a,b]])\n",
    "  \n",
    "class DataRead2(DataRead):\n",
    "  def __init__(self,fileread):\n",
    "    DataRead.__init__(DataRead,fileread)\n",
    "\n",
    "  def corr_plot(self):\n",
    "    df2=self.df1\n",
    "    correlation=df2.corr()\n",
    "    sns.heatmap(correlation)\n",
    "    plt.show()\n",
    "\n",
    "  def RowSelect(self,a,b,c):\n",
    "    print(self.df1.iloc[[a,b,c]])"
   ]
  },
  {
   "cell_type": "code",
   "execution_count": null,
   "metadata": {
    "colab": {
     "base_uri": "https://localhost:8080/",
     "height": 197
    },
    "colab_type": "code",
    "id": "IBvTwnr53ZGp",
    "outputId": "50cc84bf-88f6-4c23-8f9d-77ee5ebe6ce4"
   },
   "outputs": [],
   "source": [
    "## Reading the file and calling the class\n",
    "df='Weather Station Locations.csv'\n",
    "x=DataRead(df)\n",
    "x.df1.head()\n",
    "\n"
   ]
  },
  {
   "cell_type": "code",
   "execution_count": null,
   "metadata": {
    "colab": {
     "base_uri": "https://localhost:8080/",
     "height": 100
    },
    "colab_type": "code",
    "id": "hLpeYq2444f0",
    "outputId": "310cabe6-6327-4446-fcbb-0199c216f943"
   },
   "outputs": [],
   "source": [
    "## Printing out 2 rows\n",
    "a=int(input('Enter which row number you want to display : '))\n",
    "b=int(input('Enter which row number you want to display : '))\n",
    "x.RowSelect(a-1,b-1)"
   ]
  },
  {
   "cell_type": "code",
   "execution_count": null,
   "metadata": {
    "colab": {
     "base_uri": "https://localhost:8080/",
     "height": 271
    },
    "colab_type": "code",
    "id": "BgwjtbuL5guK",
    "outputId": "055013fc-f59c-4f06-abf3-728b9c490b53"
   },
   "outputs": [],
   "source": [
    "## Correlation Plot\n",
    "x2 = DataRead2(df)\n",
    "x2.corr_plot()"
   ]
  },
  {
   "cell_type": "code",
   "execution_count": null,
   "metadata": {
    "colab": {
     "base_uri": "https://localhost:8080/",
     "height": 167
    },
    "colab_type": "code",
    "id": "gWR1JcLI8Xya",
    "outputId": "6f300505-bdfb-4698-ca22-1ade7872e442"
   },
   "outputs": [],
   "source": [
    "## Calling dataread2 to call out 3 rows\n",
    "a=int(input('Enter which row number you want to display : '))\n",
    "b=int(input('Enter which row number you want to display : '))\n",
    "c=int(input('Enter which row number you want to display : '))\n",
    "x2.RowSelect(a-1,b-1,c-1)"
   ]
  },
  {
   "cell_type": "code",
   "execution_count": null,
   "metadata": {
    "colab": {},
    "colab_type": "code",
    "id": "0cTv3dwn-4Z6"
   },
   "outputs": [],
   "source": []
  }
 ],
 "metadata": {
  "colab": {
   "name": "HW_J021_110720.ipynb",
   "provenance": []
  },
  "kernelspec": {
   "display_name": "Python 3",
   "language": "python",
   "name": "python3"
  }
 },
 "nbformat": 4,
 "nbformat_minor": 1
}
